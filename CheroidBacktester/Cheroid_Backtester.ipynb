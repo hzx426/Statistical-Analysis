{
 "cells": [
  {
   "cell_type": "markdown",
   "metadata": {},
   "source": [
    "<h1 style=\"text-align: center\"> Cheroid Backtester </h1>"
   ]
  },
  {
   "cell_type": "code",
   "execution_count": 1,
   "metadata": {},
   "outputs": [],
   "source": [
    "import numpy as np\n",
    "import pandas as pd\n",
    "import matplotlib.pyplot as plt\n",
    "\n",
    "from LoadData import Loader"
   ]
  },
  {
   "cell_type": "code",
   "execution_count": 2,
   "metadata": {},
   "outputs": [],
   "source": [
    "# import sys\n",
    "# !python -m pip install --user --index-url=https://bloomberg.bintray.com/pip/simple blpapi\n",
    "# import blpapi"
   ]
  },
  {
   "cell_type": "markdown",
   "metadata": {},
   "source": [
    "# Load Data\n",
    "\n",
    "1. load from csv\n",
    "2. load from excel\n",
    "3. load from bbg API (can be slow and resource consuming)"
   ]
  },
  {
   "cell_type": "code",
   "execution_count": 157,
   "metadata": {},
   "outputs": [],
   "source": [
    "dataframe = Loader.load_data(\"SampleData.xlsx\")\n"
   ]
  },
  {
   "cell_type": "code",
   "execution_count": 158,
   "metadata": {
    "scrolled": true
   },
   "outputs": [],
   "source": [
    "dataframe.columns.values[0] = \"Date\"\n",
    "dataframe.set_index(\"Date\", inplace=True)"
   ]
  },
  {
   "cell_type": "code",
   "execution_count": 159,
   "metadata": {},
   "outputs": [
    {
     "data": {
      "text/html": [
       "<div>\n",
       "<style scoped>\n",
       "    .dataframe tbody tr th:only-of-type {\n",
       "        vertical-align: middle;\n",
       "    }\n",
       "\n",
       "    .dataframe tbody tr th {\n",
       "        vertical-align: top;\n",
       "    }\n",
       "\n",
       "    .dataframe thead th {\n",
       "        text-align: right;\n",
       "    }\n",
       "</style>\n",
       "<table border=\"1\" class=\"dataframe\">\n",
       "  <thead>\n",
       "    <tr style=\"text-align: right;\">\n",
       "      <th></th>\n",
       "      <th>BABA.US</th>\n",
       "      <th>PDD.US</th>\n",
       "      <th>BILI.US</th>\n",
       "      <th>TSLA.US</th>\n",
       "      <th>EDU.US</th>\n",
       "    </tr>\n",
       "    <tr>\n",
       "      <th>Date</th>\n",
       "      <th></th>\n",
       "      <th></th>\n",
       "      <th></th>\n",
       "      <th></th>\n",
       "      <th></th>\n",
       "    </tr>\n",
       "  </thead>\n",
       "  <tbody>\n",
       "    <tr>\n",
       "      <th>2019-01-02</th>\n",
       "      <td>136.699997</td>\n",
       "      <td>22.209999</td>\n",
       "      <td>14.28</td>\n",
       "      <td>310.119995</td>\n",
       "      <td>55.310001</td>\n",
       "    </tr>\n",
       "    <tr>\n",
       "      <th>2019-01-03</th>\n",
       "      <td>130.600006</td>\n",
       "      <td>21.520000</td>\n",
       "      <td>12.95</td>\n",
       "      <td>300.359985</td>\n",
       "      <td>53.950001</td>\n",
       "    </tr>\n",
       "    <tr>\n",
       "      <th>2019-01-04</th>\n",
       "      <td>139.750000</td>\n",
       "      <td>22.690001</td>\n",
       "      <td>13.70</td>\n",
       "      <td>317.690002</td>\n",
       "      <td>56.570000</td>\n",
       "    </tr>\n",
       "    <tr>\n",
       "      <th>2019-01-07</th>\n",
       "      <td>143.100006</td>\n",
       "      <td>23.209999</td>\n",
       "      <td>14.27</td>\n",
       "      <td>334.959991</td>\n",
       "      <td>58.619999</td>\n",
       "    </tr>\n",
       "    <tr>\n",
       "      <th>2019-01-08</th>\n",
       "      <td>146.789993</td>\n",
       "      <td>24.000000</td>\n",
       "      <td>14.78</td>\n",
       "      <td>335.350006</td>\n",
       "      <td>58.740002</td>\n",
       "    </tr>\n",
       "  </tbody>\n",
       "</table>\n",
       "</div>"
      ],
      "text/plain": [
       "               BABA.US     PDD.US  BILI.US     TSLA.US     EDU.US\n",
       "Date                                                             \n",
       "2019-01-02  136.699997  22.209999    14.28  310.119995  55.310001\n",
       "2019-01-03  130.600006  21.520000    12.95  300.359985  53.950001\n",
       "2019-01-04  139.750000  22.690001    13.70  317.690002  56.570000\n",
       "2019-01-07  143.100006  23.209999    14.27  334.959991  58.619999\n",
       "2019-01-08  146.789993  24.000000    14.78  335.350006  58.740002"
      ]
     },
     "execution_count": 159,
     "metadata": {},
     "output_type": "execute_result"
    }
   ],
   "source": [
    "dataframe.head()"
   ]
  },
  {
   "cell_type": "markdown",
   "metadata": {},
   "source": [
    "# Model"
   ]
  },
  {
   "cell_type": "code",
   "execution_count": 160,
   "metadata": {},
   "outputs": [],
   "source": [
    "MODEL_NAME = \"??? Structure Product\"\n",
    "# TENURE = \"12M\"\n",
    "# KO_BAR = 1.0\n",
    "# PUT_STRIKE = 0.7\n",
    "\n",
    "PAY_FREQ = \"Q\"\n",
    "COUPON_RATE = 0.04\n",
    "\n",
    "FREQ_NUM_MAP = {\"Q\": 0.25}"
   ]
  },
  {
   "cell_type": "code",
   "execution_count": 161,
   "metadata": {},
   "outputs": [],
   "source": [
    "# dataframe = dataframe.head(1).append(dataframe.resample(OBS_FREQ).last()) # sample data to desired frequency\n",
    "# dataframe[\"Underlying\"] = dataframe.apply(lambda x: min(x), axis=1) # worst of n stocks\n",
    "# df_benchmark = dataframe.loc[dataframe.index<\"2019-02-01\"].apply(lambda x: min(x), axis=0) # benchmark\n",
    "df_benchmark = dataframe.iloc[0]\n",
    "dataframe = dataframe / df_benchmark # normalize price to net worth\n",
    "for col in dataframe.columns:\n",
    "    dataframe[col] = dataframe[col].apply(lambda x: int(x > 0.8))"
   ]
  },
  {
   "cell_type": "code",
   "execution_count": 162,
   "metadata": {
    "scrolled": true
   },
   "outputs": [],
   "source": [
    "df = dataframe.resample(PAY_FREQ).sum() / dataframe.resample(PAY_FREQ).count()\n",
    "\n",
    "df = df.apply(lambda x: x * COUPON_RATE * FREQ_NUM_MAP[PAY_FREQ]) # realized coupon payment"
   ]
  },
  {
   "cell_type": "markdown",
   "metadata": {},
   "source": [
    "# Result"
   ]
  },
  {
   "cell_type": "code",
   "execution_count": 163,
   "metadata": {},
   "outputs": [
    {
     "data": {
      "text/html": [
       "<div>\n",
       "<style scoped>\n",
       "    .dataframe tbody tr th:only-of-type {\n",
       "        vertical-align: middle;\n",
       "    }\n",
       "\n",
       "    .dataframe tbody tr th {\n",
       "        vertical-align: top;\n",
       "    }\n",
       "\n",
       "    .dataframe thead th {\n",
       "        text-align: right;\n",
       "    }\n",
       "</style>\n",
       "<table border=\"1\" class=\"dataframe\">\n",
       "  <thead>\n",
       "    <tr style=\"text-align: right;\">\n",
       "      <th></th>\n",
       "      <th>BABA.US</th>\n",
       "      <th>PDD.US</th>\n",
       "      <th>BILI.US</th>\n",
       "      <th>TSLA.US</th>\n",
       "      <th>EDU.US</th>\n",
       "    </tr>\n",
       "    <tr>\n",
       "      <th>Date</th>\n",
       "      <th></th>\n",
       "      <th></th>\n",
       "      <th></th>\n",
       "      <th></th>\n",
       "      <th></th>\n",
       "    </tr>\n",
       "  </thead>\n",
       "  <tbody>\n",
       "    <tr>\n",
       "      <th>2019-03-31</th>\n",
       "      <td>0.01</td>\n",
       "      <td>0.01</td>\n",
       "      <td>0.01</td>\n",
       "      <td>0.010000</td>\n",
       "      <td>0.01</td>\n",
       "    </tr>\n",
       "    <tr>\n",
       "      <th>2019-06-30</th>\n",
       "      <td>0.02</td>\n",
       "      <td>0.02</td>\n",
       "      <td>0.02</td>\n",
       "      <td>0.013016</td>\n",
       "      <td>0.02</td>\n",
       "    </tr>\n",
       "    <tr>\n",
       "      <th>2019-09-30</th>\n",
       "      <td>0.03</td>\n",
       "      <td>0.03</td>\n",
       "      <td>0.03</td>\n",
       "      <td>0.014266</td>\n",
       "      <td>0.03</td>\n",
       "    </tr>\n",
       "    <tr>\n",
       "      <th>2019-12-31</th>\n",
       "      <td>0.04</td>\n",
       "      <td>0.04</td>\n",
       "      <td>0.04</td>\n",
       "      <td>0.022860</td>\n",
       "      <td>0.04</td>\n",
       "    </tr>\n",
       "    <tr>\n",
       "      <th>2020-03-31</th>\n",
       "      <td>0.05</td>\n",
       "      <td>0.05</td>\n",
       "      <td>0.05</td>\n",
       "      <td>0.032860</td>\n",
       "      <td>0.05</td>\n",
       "    </tr>\n",
       "    <tr>\n",
       "      <th>2020-06-30</th>\n",
       "      <td>0.06</td>\n",
       "      <td>0.06</td>\n",
       "      <td>0.06</td>\n",
       "      <td>0.042860</td>\n",
       "      <td>0.06</td>\n",
       "    </tr>\n",
       "  </tbody>\n",
       "</table>\n",
       "</div>"
      ],
      "text/plain": [
       "            BABA.US  PDD.US  BILI.US   TSLA.US  EDU.US\n",
       "Date                                                  \n",
       "2019-03-31     0.01    0.01     0.01  0.010000    0.01\n",
       "2019-06-30     0.02    0.02     0.02  0.013016    0.02\n",
       "2019-09-30     0.03    0.03     0.03  0.014266    0.03\n",
       "2019-12-31     0.04    0.04     0.04  0.022860    0.04\n",
       "2020-03-31     0.05    0.05     0.05  0.032860    0.05\n",
       "2020-06-30     0.06    0.06     0.06  0.042860    0.06"
      ]
     },
     "execution_count": 163,
     "metadata": {},
     "output_type": "execute_result"
    }
   ],
   "source": [
    "df.cumsum()"
   ]
  },
  {
   "cell_type": "code",
   "execution_count": 164,
   "metadata": {},
   "outputs": [
    {
     "data": {
      "image/png": "[encoded data removed]",
      "text/plain": [
       "<Figure size 432x288 with 1 Axes>"
      ]
     },
     "metadata": {
      "needs_background": "light"
     },
     "output_type": "display_data"
    }
   ],
   "source": [
    "df.cumsum().plot(title=f\"{MODEL_NAME} Backtest Result\")\n",
    "plt.show()"
   ]
  },
  {
   "cell_type": "code",
   "execution_count": null,
   "metadata": {},
   "outputs": [],
   "source": []
  }
 ],
 "metadata": {
  "kernelspec": {
   "display_name": "Python 3",
   "language": "python",
   "name": "python3"
  },
  "language_info": {
   "codemirror_mode": {
    "name": "ipython",
    "version": 3
   },
   "file_extension": ".py",
   "mimetype": "text/x-python",
   "name": "python",
   "nbconvert_exporter": "python",
   "pygments_lexer": "ipython3",
   "version": "3.7.0"
  }
 },
 "nbformat": 4,
 "nbformat_minor": 2
}
