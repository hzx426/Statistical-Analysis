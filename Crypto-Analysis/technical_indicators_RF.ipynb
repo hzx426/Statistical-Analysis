{
 "cells": [
  {
   "cell_type": "markdown",
   "metadata": {},
   "source": [
    "## Apply Random Forest Regression to Stock Technical Indicators\n",
    "### _Date 11.23.2017_"
   ]
  },
  {
   "cell_type": "code",
   "execution_count": 1,
   "metadata": {},
   "outputs": [],
   "source": [
    "import pandas as pd\n",
    "import numpy as np\n",
    "import matplotlib.pyplot as plt\n",
    "from sklearn.metrics import mean_squared_error\n",
    "from sklearn.model_selection import GridSearchCV, cross_val_score\n",
    "from sklearn.model_selection import train_test_split, KFold\n",
    "from sklearn.ensemble import RandomForestRegressor\n",
    "from sklearn import datasets\n",
    "import pickle"
   ]
  },
  {
   "cell_type": "markdown",
   "metadata": {},
   "source": [
    "#### Load Data"
   ]
  },
  {
   "cell_type": "code",
   "execution_count": 13,
   "metadata": {},
   "outputs": [
    {
     "data": {
      "text/html": [
       "<div>\n",
       "<style scoped>\n",
       "    .dataframe tbody tr th:only-of-type {\n",
       "        vertical-align: middle;\n",
       "    }\n",
       "\n",
       "    .dataframe tbody tr th {\n",
       "        vertical-align: top;\n",
       "    }\n",
       "\n",
       "    .dataframe thead th {\n",
       "        text-align: right;\n",
       "    }\n",
       "</style>\n",
       "<table border=\"1\" class=\"dataframe\">\n",
       "  <thead>\n",
       "    <tr style=\"text-align: right;\">\n",
       "      <th></th>\n",
       "      <th>Close</th>\n",
       "    </tr>\n",
       "    <tr>\n",
       "      <th>date</th>\n",
       "      <th></th>\n",
       "    </tr>\n",
       "  </thead>\n",
       "  <tbody>\n",
       "    <tr>\n",
       "      <th>2018-08-28</th>\n",
       "      <td>12.964793</td>\n",
       "    </tr>\n",
       "    <tr>\n",
       "      <th>2018-08-29</th>\n",
       "      <td>13.019936</td>\n",
       "    </tr>\n",
       "    <tr>\n",
       "      <th>2018-08-30</th>\n",
       "      <td>12.621047</td>\n",
       "    </tr>\n",
       "    <tr>\n",
       "      <th>2018-08-31</th>\n",
       "      <td>12.664938</td>\n",
       "    </tr>\n",
       "    <tr>\n",
       "      <th>2018-09-01</th>\n",
       "      <td>13.174411</td>\n",
       "    </tr>\n",
       "  </tbody>\n",
       "</table>\n",
       "</div>"
      ],
      "text/plain": [
       "                Close\n",
       "date                 \n",
       "2018-08-28  12.964793\n",
       "2018-08-29  13.019936\n",
       "2018-08-30  12.621047\n",
       "2018-08-31  12.664938\n",
       "2018-09-01  13.174411"
      ]
     },
     "execution_count": 13,
     "metadata": {},
     "output_type": "execute_result"
    }
   ],
   "source": [
    "f = open('pickle/ETC_prices.pkl', 'rb')\n",
    "df = pickle.load(f)\n",
    "df.columns = ['Close']\n",
    "df.dropna(inplace=True)\n",
    "df.tail()"
   ]
  },
  {
   "cell_type": "markdown",
   "metadata": {},
   "source": [
    "#### Compute Technical Indicators"
   ]
  },
  {
   "cell_type": "code",
   "execution_count": 10,
   "metadata": {},
   "outputs": [],
   "source": [
    "def exp_Mov_Avg(myArr,N):\n",
    "    EMA = np.zeros(len(myArr))\n",
    "    EMA[0] = myArr[0]\n",
    "    k = 2/(N+1)\n",
    "    for i in range(1,len(myArr)):\n",
    "        EMA[i] = myArr[i]*k + EMA[i-1]*(1-k)\n",
    "    return EMA\n",
    "\n",
    "def MACD(myArr,a=12,b=26):\n",
    "    return exp_Mov_Avg(myArr,a)-exp_Mov_Avg(myArr,b)\n",
    "\n",
    "def MACD2(myArr,a=12,b=26,c=9):\n",
    "    MACD = exp_Mov_Avg(myArr,a)-exp_Mov_Avg(myArr,b)\n",
    "    return [float(x) for x in MACD>exp_Mov_Avg(MACD,c)]\n",
    "\n",
    "def oscillator(myArr_last, myArr_low, myArr_high):\n",
    "    K = [float('nan') for x in range(13)]\n",
    "    for i in range(13, len(myArr_last)):\n",
    "        L14 = min(myArr_low[i-13:i+1])\n",
    "        H14 = max(myArr_high[i-13:i+1])\n",
    "        K.append(100*(myArr_last[i]-L14)/(H14-L14))\n",
    "    return K\n",
    "\n",
    "def williams(myArr_last, myArr_low, myArr_high):\n",
    "    R = [float('nan') for x in range(13)]\n",
    "    for i in range(13, len(myArr_last)):\n",
    "        L14 = min(myArr_low[i-13:i+1])\n",
    "        H14 = max(myArr_high[i-13:i+1])\n",
    "        R.append((H14-myArr_last[i])/(H14-L14)*(-100))\n",
    "    return R\n",
    "\n",
    "def relative_Strength_Index(myArr):\n",
    "    RSI = [float('nan') for x in range(14)]\n",
    "    myDiff = np.array(myArr[1:])-np.array(myArr[0:len(myArr)-1])\n",
    "    for i in range(14,len(myArr)):\n",
    "        temp = myDiff[i-14:i]\n",
    "        if len(temp[temp<=0])==0:\n",
    "            RSI.append(100)\n",
    "        else:\n",
    "            RS = np.mean(temp[temp>0])/np.mean(-temp[temp<=0])\n",
    "            RSI.append(100 - 100/(1+RS))\n",
    "    return RSI\n",
    "\n",
    "def money_flow_index(myArr_last, myArr_low, myArr_high,myArr_volume):\n",
    "    myArr = (myArr_high+myArr_low+myArr_last)/3*myArr_volume\n",
    "    return relative_Strength_Index(myArr)\n",
    "\n",
    "def price_Change(myArr, n):\n",
    "    myArr = np.array(myArr)\n",
    "    PC = np.array([float('nan') for x in range(n)])\n",
    "    PC = np.append(PC,myArr[n:]/myArr[0:len(myArr)-n]-1)\n",
    "    return PC\n",
    "\n",
    "def on_Balance_Volume(myArr_last, myArr_volume):\n",
    "    obv = np.zeros(len(myArr_volume))\n",
    "    obv[0] = myArr_volume[0]\n",
    "    for i in range (1,len(myArr_last)):\n",
    "        if myArr_last[i] > myArr_last[i-1]:\n",
    "            obv[i] = obv[i-1] + myArr_volume[i]\n",
    "        elif myArr_last[i] < myArr_last[i-1]:\n",
    "            obv[i] = obv[i-1] - myArr_volume[i]\n",
    "        else:\n",
    "            obv[i] = obv[i-1]\n",
    "    return obv"
   ]
  },
  {
   "cell_type": "code",
   "execution_count": 15,
   "metadata": {},
   "outputs": [],
   "source": [
    "#df['Yt+30'] = [float(x) for x in data['Close'].shift(-30)>data['Close']]\n",
    "df.loc[:, 'Rt+30'] = df['Close'].shift(-30)/df['Close']-1\n",
    "df.loc[:, 'MACD'] = MACD(df['Close'])\n",
    "\n",
    "# exp smoothing\n",
    "df.loc[:, 'Close'] = exp_Mov_Avg(df['Close'], 2)\n",
    "#data.loc[:, 'Low'] = exp_Mov_Avg(data['Low'], 2)\n",
    "#data.loc[:, 'High'] = exp_Mov_Avg(data['High'], 2)\n",
    "#data.loc[:, 'Volume'] = exp_Mov_Avg(data['Volume'], 2)\n",
    "\n",
    "#df.loc[:, 'Oscillator'] = oscillator(df['Close'], df['Low'], df['High'])\n",
    "#df.loc[:, 'Williams'] = williams(df['Close'], df['Low'], df['High'])\n",
    "df.loc[:, 'RSI'] = relative_Strength_Index(df['Close'])\n",
    "#df.loc[:, 'MFI'] = money_flow_index(df['Close'], df['Low'], df['High'], df['Volume'])\n",
    "df.loc[:, 'Price_Chg1'] = price_Change(df['Close'],1)\n",
    "df.loc[:, 'Price_Chg2'] = price_Change(df['Close'],2)\n",
    "df.loc[:, 'Price_Chg3'] = price_Change(df['Close'],3)\n",
    "df.loc[:, 'Price_Chg5'] = price_Change(df['Close'],5)\n",
    "df.loc[:, 'Price_Chg8'] = price_Change(df['Close'],8)\n",
    "df.loc[:, 'Price_Chg13'] = price_Change(df['Close'],13)\n",
    "df.loc[:, 'Price_Chg21'] = price_Change(df['Close'],21)\n",
    "df.loc[:, 'Price_Chg30'] = price_Change(df['Close'],30)\n",
    "df.loc[:, 'Price_Chg60'] = price_Change(df['Close'],60)\n",
    "#df.loc[:, 'OBV'] = on_Balance_Volume(df['Close'], df['Volume'])"
   ]
  },
  {
   "cell_type": "code",
   "execution_count": 8,
   "metadata": {},
   "outputs": [],
   "source": [
    "df = df[df.index>=\"1992/04/01\"] # remove observations at the beginning to avoid nan and volatile EMA\n",
    "df = df[:-30] # remove last 30 days due to lack of Y_{t+30}\n",
    "df = pd.DataFrame.dropna(df) # remove rows that still contains nan\n",
    "df_train = df[df.index<\"2016/01/01\"] # training set 1986~2015\n",
    "df_test = df[df.index>=\"2016/01/01\"] # test set 2016~2017"
   ]
  },
  {
   "cell_type": "markdown",
   "metadata": {},
   "source": [
    "#### Random Forest Regression"
   ]
  },
  {
   "cell_type": "code",
   "execution_count": 16,
   "metadata": {},
   "outputs": [
    {
     "name": "stdout",
     "output_type": "stream",
     "text": [
      "Fitting 5 folds for each of 9 candidates, totalling 45 fits\n"
     ]
    },
    {
     "name": "stderr",
     "output_type": "stream",
     "text": [
      "[Parallel(n_jobs=-1)]: Done  45 out of  45 | elapsed:  2.9min finished\n"
     ]
    },
    {
     "name": "stdout",
     "output_type": "stream",
     "text": [
      "RandomForestRegressor(bootstrap=True, criterion='mse', max_depth=None,\n",
      "           max_features=3, max_leaf_nodes=None, min_impurity_split=1e-07,\n",
      "           min_samples_leaf=8, min_samples_split=2,\n",
      "           min_weight_fraction_leaf=0.0, n_estimators=500, n_jobs=1,\n",
      "           oob_score=False, random_state=None, verbose=0, warm_start=False)\n"
     ]
    }
   ],
   "source": [
    "features = ['MACD','Oscillator','Williams','RSI','MFI','Price_Chg1','Price_Chg2','Price_Chg3',\n",
    "            'Price_Chg5','Price_Chg8','Price_Chg13','Price_Chg21','Price_Chg30','Price_Chg60','OBV']\n",
    "X_train = df_train[features]\n",
    "Y_train = df_train['Rt+30']\n",
    "param_grid = {'n_estimators': [500], 'max_features': [3,4,5],'min_samples_leaf':[4,6,8]}\n",
    "rfr = GridSearchCV(estimator=RandomForestRegressor(), param_grid=param_grid, n_jobs=-1, cv=5, verbose=1)\n",
    "rfr.fit(X_train, Y_train)\n",
    "print(rfr.best_estimator_)"
   ]
  },
  {
   "cell_type": "code",
   "execution_count": 17,
   "metadata": {},
   "outputs": [
    {
     "data": {
      "image/png": "[encoded data removed]",
      "text/plain": [
       "<matplotlib.figure.Figure at 0x21d191605c0>"
      ]
     },
     "metadata": {},
     "output_type": "display_data"
    }
   ],
   "source": [
    "#Function: Plot Random Forest Regressor Feature Importance:\n",
    "def plot_rfr(estimator,features):\n",
    "    y_pos = np.arange(len(features))\n",
    "    plt.bar(y_pos, estimator.best_estimator_.feature_importances_, align='center', alpha=0.5)\n",
    "    plt.xticks(y_pos, features)\n",
    "    plt.title(\"Feature Importance Generated by Random Forest\")\n",
    "    x = plt.gca().xaxis\n",
    "    for item in x.get_ticklabels():\n",
    "        item.set_rotation(90)\n",
    "    plt.show()\n",
    "\n",
    "plot_rfr(rfr,features)"
   ]
  },
  {
   "cell_type": "code",
   "execution_count": 49,
   "metadata": {
    "scrolled": true
   },
   "outputs": [
    {
     "name": "stdout",
     "output_type": "stream",
     "text": [
      "166.0\n",
      "196.0\n",
      "27.0\n",
      "57.0\n",
      "0.811659192825\n",
      "0.860103626943\n",
      "0.744394618834\n",
      "0.878923766816\n"
     ]
    },
    {
     "name": "stderr",
     "output_type": "stream",
     "text": [
      "C:\\Python666\\lib\\site-packages\\ipykernel\\__main__.py:1: SettingWithCopyWarning: \n",
      "A value is trying to be set on a copy of a slice from a DataFrame.\n",
      "Try using .loc[row_indexer,col_indexer] = value instead\n",
      "\n",
      "See the caveats in the documentation: http://pandas.pydata.org/pandas-docs/stable/indexing.html#indexing-view-versus-copy\n",
      "  if __name__ == '__main__':\n"
     ]
    }
   ],
   "source": [
    "df_test['Rt+30_hat'] = rfr.predict(df_test[features])\n",
    "rt30 = df_test['Rt+30']\n",
    "rt30_hat = df_test['Rt+30_hat']\n",
    "\n",
    "# robustness parameters for binary classifiers\n",
    "tp = sum(np.array([float(x) for x in rt30>0]) * np.array([float(x) for x in rt30_hat>0]))\n",
    "tn = sum(np.array([float(x) for x in rt30<0]) * np.array([float(x) for x in rt30_hat<0]))\n",
    "fp = sum(np.array([float(x) for x in rt30<0]) * np.array([float(x) for x in rt30_hat>0]))\n",
    "fn = sum(np.array([float(x) for x in rt30>0]) * np.array([float(x) for x in rt30_hat<0]))\n",
    "print(tp)\n",
    "print(tn)\n",
    "print(fp)\n",
    "print(fn)\n",
    "accuracy = (tp+tn)/(tp+tn+fp+fn)\n",
    "precision = tp/(tp+fp)\n",
    "recall = tp/(tp+fn)\n",
    "specificity = tn/(tn+fp)\n",
    "print(accuracy)\n",
    "print(precision)\n",
    "print(recall)\n",
    "print(specificity)"
   ]
  },
  {
   "cell_type": "code",
   "execution_count": 50,
   "metadata": {},
   "outputs": [
    {
     "name": "stdout",
     "output_type": "stream",
     "text": [
      "0.396704132958\n",
      "0.333221129561\n"
     ]
    },
    {
     "name": "stderr",
     "output_type": "stream",
     "text": [
      "C:\\Python666\\lib\\site-packages\\pandas\\core\\generic.py:4702: SettingWithCopyWarning: \n",
      "A value is trying to be set on a copy of a slice from a DataFrame\n",
      "\n",
      "See the caveats in the documentation: http://pandas.pydata.org/pandas-docs/stable/indexing.html#indexing-view-versus-copy\n",
      "  self._update_inplace(new_data)\n",
      "C:\\Python666\\lib\\site-packages\\IPython\\core\\interactiveshell.py:2881: SettingWithCopyWarning: \n",
      "A value is trying to be set on a copy of a slice from a DataFrame\n",
      "\n",
      "See the caveats in the documentation: http://pandas.pydata.org/pandas-docs/stable/indexing.html#indexing-view-versus-copy\n",
      "  exec(code_obj, self.user_global_ns, self.user_ns)\n",
      "C:\\Python666\\lib\\site-packages\\ipykernel\\__main__.py:4: FutureWarning: how in .resample() is deprecated\n",
      "the new syntax is .resample(...).last()\n",
      "C:\\Python666\\lib\\site-packages\\ipykernel\\__main__.py:5: FutureWarning: how in .resample() is deprecated\n",
      "the new syntax is .resample(...).first()\n"
     ]
    }
   ],
   "source": [
    "# total returns\n",
    "profit = rt30\n",
    "profit[rt30_hat<0] = -rt30\n",
    "print(sum(profit.resample('M','last'))/22*12)\n",
    "print(sum(profit.resample('M','first'))/22*12)"
   ]
  }
 ],
 "metadata": {
  "kernelspec": {
   "display_name": "Python 3",
   "language": "python",
   "name": "python3"
  },
  "language_info": {
   "codemirror_mode": {
    "name": "ipython",
    "version": 3
   },
   "file_extension": ".py",
   "mimetype": "text/x-python",
   "name": "python",
   "nbconvert_exporter": "python",
   "pygments_lexer": "ipython3",
   "version": "3.6.5"
  }
 },
 "nbformat": 4,
 "nbformat_minor": 2
}
