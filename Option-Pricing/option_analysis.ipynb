{
 "cells": [
  {
   "cell_type": "markdown",
   "metadata": {},
   "source": [
    "<h1 align=\"center\"> Option Analysis </h1>\n",
    "<h4 align=\"center\"> Nicholas Han </h4>\n",
    "<h4 align=\"center\"> Spring 2018 </h4>"
   ]
  },
  {
   "cell_type": "markdown",
   "metadata": {},
   "source": [
    "### 1. Generate Vol Surface"
   ]
  },
  {
   "cell_type": "markdown",
   "metadata": {},
   "source": [
    "#### packages & files"
   ]
  },
  {
   "cell_type": "code",
   "execution_count": 2,
   "metadata": {
    "collapsed": true
   },
   "outputs": [],
   "source": [
    "import numpy as np\n",
    "import pandas as pd\n",
    "import datetime as dt\n",
    "import scipy.stats\n",
    "import matplotlib.pyplot as plt"
   ]
  },
  {
   "cell_type": "markdown",
   "metadata": {},
   "source": [
    "#### data preprocessing"
   ]
  },
  {
   "cell_type": "code",
   "execution_count": 7,
   "metadata": {
    "collapsed": false
   },
   "outputs": [
    {
     "data": {
      "text/html": [
       "<div>\n",
       "<table border=\"1\" class=\"dataframe\">\n",
       "  <thead>\n",
       "    <tr style=\"text-align: right;\">\n",
       "      <th></th>\n",
       "      <th>Date</th>\n",
       "      <th>call_put</th>\n",
       "      <th>strike</th>\n",
       "      <th>spot close</th>\n",
       "      <th>close</th>\n",
       "      <th>expiration date</th>\n",
       "      <th>futures close</th>\n",
       "    </tr>\n",
       "  </thead>\n",
       "  <tbody>\n",
       "    <tr>\n",
       "      <th>1616</th>\n",
       "      <td>2017-03-01</td>\n",
       "      <td>C</td>\n",
       "      <td>2.3</td>\n",
       "      <td>2.368</td>\n",
       "      <td>0.0744</td>\n",
       "      <td>2017-03-22</td>\n",
       "      <td>2364.0</td>\n",
       "    </tr>\n",
       "    <tr>\n",
       "      <th>1617</th>\n",
       "      <td>2017-03-02</td>\n",
       "      <td>C</td>\n",
       "      <td>2.3</td>\n",
       "      <td>2.353</td>\n",
       "      <td>0.0591</td>\n",
       "      <td>2017-03-22</td>\n",
       "      <td>2347.2</td>\n",
       "    </tr>\n",
       "    <tr>\n",
       "      <th>1618</th>\n",
       "      <td>2017-03-03</td>\n",
       "      <td>C</td>\n",
       "      <td>2.3</td>\n",
       "      <td>2.343</td>\n",
       "      <td>0.0503</td>\n",
       "      <td>2017-03-22</td>\n",
       "      <td>2337.6</td>\n",
       "    </tr>\n",
       "    <tr>\n",
       "      <th>1619</th>\n",
       "      <td>2017-03-06</td>\n",
       "      <td>C</td>\n",
       "      <td>2.3</td>\n",
       "      <td>2.349</td>\n",
       "      <td>0.0527</td>\n",
       "      <td>2017-03-22</td>\n",
       "      <td>2341.8</td>\n",
       "    </tr>\n",
       "    <tr>\n",
       "      <th>1620</th>\n",
       "      <td>2017-03-07</td>\n",
       "      <td>C</td>\n",
       "      <td>2.3</td>\n",
       "      <td>2.354</td>\n",
       "      <td>0.0565</td>\n",
       "      <td>2017-03-22</td>\n",
       "      <td>2347.2</td>\n",
       "    </tr>\n",
       "  </tbody>\n",
       "</table>\n",
       "</div>"
      ],
      "text/plain": [
       "           Date call_put  strike  spot close   close expiration date  \\\n",
       "1616 2017-03-01        C     2.3       2.368  0.0744      2017-03-22   \n",
       "1617 2017-03-02        C     2.3       2.353  0.0591      2017-03-22   \n",
       "1618 2017-03-03        C     2.3       2.343  0.0503      2017-03-22   \n",
       "1619 2017-03-06        C     2.3       2.349  0.0527      2017-03-22   \n",
       "1620 2017-03-07        C     2.3       2.354  0.0565      2017-03-22   \n",
       "\n",
       "      futures close  \n",
       "1616         2364.0  \n",
       "1617         2347.2  \n",
       "1618         2337.6  \n",
       "1619         2341.8  \n",
       "1620         2347.2  "
      ]
     },
     "execution_count": 7,
     "metadata": {},
     "output_type": "execute_result"
    }
   ],
   "source": [
    "# read raw data frame, no Chinese characters allowed\n",
    "data = pd.read_csv('50ETF_data_20170301to20180228.csv')\n",
    "\n",
    "# remove dividend-adjusted contracts\n",
    "valid_contracts = [x[11]=='M' for x in data['trade code']]\n",
    "data = data[valid_contracts]\n",
    "\n",
    "data['call_put'] = [x[6] for x in data['trade code']]\n",
    "data['Date'] = [dt.datetime(year=x//10000, month=(x%10000)//100, day=x%100) for x in data['Date']]\n",
    "data['expiration date'] = [dt.datetime(year=x//10000, month=(x%10000)//100, day=x%100) for x in data['expiration date']]\n",
    "\n",
    "df = data[['Date','call_put','strike','spot close', 'close', 'expiration date', 'futures close']]\n",
    "df.head()"
   ]
  },
  {
   "cell_type": "code",
   "execution_count": null,
   "metadata": {
    "collapsed": false
   },
   "outputs": [],
   "source": [
    "dates = np.unique(df['Date'])\n",
    "for date in dates:\n",
    "    "
   ]
  },
  {
   "cell_type": "code",
   "execution_count": 20,
   "metadata": {
    "collapsed": false
   },
   "outputs": [
    {
     "data": {
      "image/png": "[encoded data removed]",
      "text/plain": [
       "<matplotlib.figure.Figure at 0x1d718650a90>"
      ]
     },
     "metadata": {},
     "output_type": "display_data"
    }
   ],
   "source": [
    "df_today = df[df['Date']=='2017-03-01']\n",
    "spot_today = list(df_today['spot close'])[0]\n",
    "futures_today = list(df_today['futures close'])[0]\n",
    "df_today = df_today[['call_put','strike','close','expiration date', 'futures close']]\n",
    "df_today_call = df_today[df_today['call_put']=='C']\n",
    "df_today_put = df_today[df_today['call_put']=='P']\n",
    "\n",
    "exp_dates = np.unique(df_today['expiration date'])\n",
    "exp_date = exp_dates[0]\n",
    "\n",
    "#for exp_date in exp_dates:\n",
    "    # match strike\n",
    "df_this_exp_call = df_today_call[df_today_call['expiration date']==exp_date]\n",
    "df_this_exp_call = df_this_exp_call[['strike','close','futures close']]\n",
    "df_this_exp_put = df_today_put[df_today_put['expiration date']==exp_date]\n",
    "df_this_exp_put = df_this_exp_put[['strike','close']]\n",
    "dd = df_this_exp_call.merge(df_this_exp_put, left_on='strike', right_on='strike', how='inner')\n",
    "dd = dd.sort_values(by='strike')\n",
    "dd['strike'] = dd['strike']*1000/futures_today\n",
    "plt.plot(dd['strike'],dd['close_x'])\n",
    "plt.show()"
   ]
  },
  {
   "cell_type": "code",
   "execution_count": null,
   "metadata": {
    "collapsed": true
   },
   "outputs": [],
   "source": [
    "# compute implied vol, let r be the implied rate from futures"
   ]
  },
  {
   "cell_type": "code",
   "execution_count": 4,
   "metadata": {
    "collapsed": true
   },
   "outputs": [],
   "source": [
    "# time series of matrices, x:K/F_0, y:Time to Maturity, z:time\n",
    "\n"
   ]
  },
  {
   "cell_type": "markdown",
   "metadata": {},
   "source": [
    "#### volatility surface"
   ]
  },
  {
   "cell_type": "code",
   "execution_count": null,
   "metadata": {
    "collapsed": true
   },
   "outputs": [],
   "source": []
  },
  {
   "cell_type": "code",
   "execution_count": null,
   "metadata": {
    "collapsed": true
   },
   "outputs": [],
   "source": []
  }
 ],
 "metadata": {
  "kernelspec": {
   "display_name": "Python 3",
   "language": "python",
   "name": "python3"
  },
  "language_info": {
   "codemirror_mode": {
    "name": "ipython",
    "version": 3
   },
   "file_extension": ".py",
   "mimetype": "text/x-python",
   "name": "python",
   "nbconvert_exporter": "python",
   "pygments_lexer": "ipython3",
   "version": "3.6.0"
  }
 },
 "nbformat": 4,
 "nbformat_minor": 2
}
