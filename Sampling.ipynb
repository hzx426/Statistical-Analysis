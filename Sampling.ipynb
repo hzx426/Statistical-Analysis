{
 "cells": [
  {
   "cell_type": "markdown",
   "metadata": {},
   "source": [
    "<h1 align=\"center\"> Sampling </h1>"
   ]
  },
  {
   "cell_type": "code",
   "execution_count": 57,
   "metadata": {},
   "outputs": [],
   "source": [
    "import numpy as np\n",
    "import pandas as pd\n",
    "from scipy.stats import norm, lognorm\n",
    "import matplotlib.pyplot as plt"
   ]
  },
  {
   "cell_type": "code",
   "execution_count": 64,
   "metadata": {},
   "outputs": [],
   "source": [
    "p = 0.01\n",
    "sim_times = int(1e4)"
   ]
  },
  {
   "cell_type": "markdown",
   "metadata": {},
   "source": [
    "### Sample Size = 100"
   ]
  },
  {
   "cell_type": "code",
   "execution_count": 65,
   "metadata": {
    "scrolled": true
   },
   "outputs": [],
   "source": [
    "sample_size = int(1e2)\n",
    "df_samples = pd.DataFrame(np.random.rand(sim_times, sample_size)).apply(lambda x: x > 1 - p)\n",
    "df_hits = df_samples.sum(axis=1)\n",
    "df_means = df_hits.apply(lambda x: x / sample_size)"
   ]
  },
  {
   "cell_type": "code",
   "execution_count": 66,
   "metadata": {},
   "outputs": [
    {
     "data": {
      "text/plain": [
       "<matplotlib.axes._subplots.AxesSubplot at 0x7fb8b0d09278>"
      ]
     },
     "execution_count": 66,
     "metadata": {},
     "output_type": "execute_result"
    },
    {
     "data": {
      "image/png": "[encoded data removed]",
      "text/plain": [
       "<Figure size 432x288 with 1 Axes>"
      ]
     },
     "metadata": {
      "needs_background": "light"
     },
     "output_type": "display_data"
    }
   ],
   "source": [
    "df_means.hist(bins=15)"
   ]
  },
  {
   "cell_type": "code",
   "execution_count": 67,
   "metadata": {},
   "outputs": [
    {
     "name": "stdout",
     "output_type": "stream",
     "text": [
      "P(hit ratio > 1%) = 26.1%\n",
      "P(hit ratio < 1%) = 36.4%\n",
      "P(hit ratio = 1%) = 37.5%\n"
     ]
    }
   ],
   "source": [
    "prob_mid_1e2 = df_hits.apply(lambda x: x == sample_size * p).sum() / sim_times\n",
    "prob_right_1e2 = df_hits.apply(lambda x: x > sample_size * p).sum() / sim_times\n",
    "prob_left_1e2 = df_hits.apply(lambda x: x < sample_size * p).sum() / sim_times\n",
    "print(f\"P(hit ratio > {p:.0%}) = {prob_right_1e2:.1%}\")\n",
    "print(f\"P(hit ratio < {p:.0%}) = {prob_left_1e2:.1%}\")\n",
    "print(f\"P(hit ratio = {p:.0%}) = {prob_mid_1e2:.1%}\")"
   ]
  },
  {
   "cell_type": "markdown",
   "metadata": {},
   "source": [
    "### Sample Size = 1,000"
   ]
  },
  {
   "cell_type": "code",
   "execution_count": 68,
   "metadata": {
    "scrolled": true
   },
   "outputs": [],
   "source": [
    "sample_size = int(1e3)\n",
    "df_samples = pd.DataFrame(np.random.rand(sim_times, sample_size)).apply(lambda x: x > 1 - p)\n",
    "df_hits = df_samples.sum(axis=1)\n",
    "df_means = df_hits.apply(lambda x: x / sample_size)"
   ]
  },
  {
   "cell_type": "code",
   "execution_count": 69,
   "metadata": {},
   "outputs": [
    {
     "data": {
      "text/plain": [
       "<matplotlib.axes._subplots.AxesSubplot at 0x7fb8d04a9438>"
      ]
     },
     "execution_count": 69,
     "metadata": {},
     "output_type": "execute_result"
    },
    {
     "data": {
      "image/png": "[encoded data removed]",
      "text/plain": [
       "<Figure size 432x288 with 1 Axes>"
      ]
     },
     "metadata": {
      "needs_background": "light"
     },
     "output_type": "display_data"
    }
   ],
   "source": [
    "df_means.hist(bins=15)"
   ]
  },
  {
   "cell_type": "code",
   "execution_count": 8,
   "metadata": {},
   "outputs": [
    {
     "name": "stdout",
     "output_type": "stream",
     "text": [
      "P(hit ratio > 1%) = 42.6%\n",
      "P(hit ratio < 1%) = 44.7%\n",
      "P(hit ratio = 1%) = 12.7%\n"
     ]
    }
   ],
   "source": [
    "prob_mid_1e3 = df_hits.apply(lambda x: x == sample_size * p).sum() / sim_times\n",
    "prob_right_1e3 = df_hits.apply(lambda x: x > sample_size * p).sum() / sim_times\n",
    "prob_left_1e3 = df_hits.apply(lambda x: x < sample_size * p).sum() / sim_times\n",
    "print(f\"P(hit ratio > {p:.0%}) = {prob_right_1e3:.1%}\")\n",
    "print(f\"P(hit ratio < {p:.0%}) = {prob_left_1e3:.1%}\")\n",
    "print(f\"P(hit ratio = {p:.0%}) = {prob_mid_1e3:.1%}\")"
   ]
  },
  {
   "cell_type": "markdown",
   "metadata": {},
   "source": [
    "### Sample Size = 10,000"
   ]
  },
  {
   "cell_type": "code",
   "execution_count": 9,
   "metadata": {
    "scrolled": true
   },
   "outputs": [],
   "source": [
    "sample_size = int(1e4)\n",
    "df_samples = pd.DataFrame(np.random.rand(sim_times, sample_size)).apply(lambda x: x > 1 - p)\n",
    "df_hits = df_samples.sum(axis=1)\n",
    "df_means = df_hits.apply(lambda x: x / sample_size)"
   ]
  },
  {
   "cell_type": "code",
   "execution_count": 10,
   "metadata": {},
   "outputs": [
    {
     "data": {
      "text/plain": [
       "<matplotlib.axes._subplots.AxesSubplot at 0x7ffe41243748>"
      ]
     },
     "execution_count": 10,
     "metadata": {},
     "output_type": "execute_result"
    },
    {
     "data": {
      "image/png": "[encoded data removed]",
      "text/plain": [
       "<Figure size 432x288 with 1 Axes>"
      ]
     },
     "metadata": {
      "needs_background": "light"
     },
     "output_type": "display_data"
    }
   ],
   "source": [
    "df_means.hist(bins=15)"
   ]
  },
  {
   "cell_type": "code",
   "execution_count": 11,
   "metadata": {},
   "outputs": [
    {
     "name": "stdout",
     "output_type": "stream",
     "text": [
      "P(hit ratio > 1%) = 46.8%\n",
      "P(hit ratio < 1%) = 49.1%\n",
      "P(hit ratio = 1%) = 4.0%\n"
     ]
    }
   ],
   "source": [
    "prob_mid_1e4 = df_hits.apply(lambda x: x == sample_size * p).sum() / sim_times\n",
    "prob_right_1e4 = df_hits.apply(lambda x: x > sample_size * p).sum() / sim_times\n",
    "prob_left_1e4 = df_hits.apply(lambda x: x < sample_size * p).sum() / sim_times\n",
    "print(f\"P(hit ratio > {p:.0%}) = {prob_right_1e4:.1%}\")\n",
    "print(f\"P(hit ratio < {p:.0%}) = {prob_left_1e4:.1%}\")\n",
    "print(f\"P(hit ratio = {p:.0%}) = {prob_mid_1e4:.1%}\")"
   ]
  },
  {
   "cell_type": "markdown",
   "metadata": {},
   "source": [
    "### Sample Size = 100,000"
   ]
  },
  {
   "cell_type": "code",
   "execution_count": 12,
   "metadata": {
    "scrolled": true
   },
   "outputs": [],
   "source": [
    "sample_size = int(1e5)\n",
    "df_samples = pd.DataFrame(np.random.rand(sim_times, sample_size)).apply(lambda x: x > 1 - p)\n",
    "df_hits = df_samples.sum(axis=1)\n",
    "df_means = df_hits.apply(lambda x: x / sample_size)"
   ]
  },
  {
   "cell_type": "code",
   "execution_count": 13,
   "metadata": {},
   "outputs": [
    {
     "data": {
      "text/plain": [
       "<matplotlib.axes._subplots.AxesSubplot at 0x7ffe48806470>"
      ]
     },
     "execution_count": 13,
     "metadata": {},
     "output_type": "execute_result"
    },
    {
     "data": {
      "image/png": "[encoded data removed]",
      "text/plain": [
       "<Figure size 432x288 with 1 Axes>"
      ]
     },
     "metadata": {
      "needs_background": "light"
     },
     "output_type": "display_data"
    }
   ],
   "source": [
    "df_means.hist(bins=15)"
   ]
  },
  {
   "cell_type": "code",
   "execution_count": 14,
   "metadata": {},
   "outputs": [
    {
     "name": "stdout",
     "output_type": "stream",
     "text": [
      "P(hit ratio > 1%) = 50.0%\n",
      "P(hit ratio < 1%) = 48.9%\n",
      "P(hit ratio = 1%) = 1.0%\n"
     ]
    }
   ],
   "source": [
    "prob_mid_1e5 = df_hits.apply(lambda x: x == sample_size * p).sum() / sim_times\n",
    "prob_right_1e5 = df_hits.apply(lambda x: x > sample_size * p).sum() / sim_times\n",
    "prob_left_1e5 = df_hits.apply(lambda x: x < sample_size * p).sum() / sim_times\n",
    "print(f\"P(hit ratio > {p:.0%}) = {prob_right_1e5:.1%}\")\n",
    "print(f\"P(hit ratio < {p:.0%}) = {prob_left_1e5:.1%}\")\n",
    "print(f\"P(hit ratio = {p:.0%}) = {prob_mid_1e5:.1%}\")"
   ]
  },
  {
   "cell_type": "markdown",
   "metadata": {},
   "source": [
    "### Convergence of Sample Mean"
   ]
  },
  {
   "cell_type": "code",
   "execution_count": 15,
   "metadata": {
    "scrolled": false
   },
   "outputs": [
    {
     "data": {
      "image/png": "[encoded data removed]",
      "text/plain": [
       "<Figure size 1152x648 with 1 Axes>"
      ]
     },
     "metadata": {
      "needs_background": "light"
     },
     "output_type": "display_data"
    }
   ],
   "source": [
    "prob_right = [prob_right_1e2, prob_right_1e3, prob_right_1e4, prob_right_1e5]\n",
    "prob_mid = [prob_mid_1e2, prob_mid_1e3, prob_mid_1e4, prob_mid_1e5]\n",
    "prob_left = [prob_left_1e2, prob_left_1e3, prob_left_1e4, prob_left_1e5]\n",
    "prob_midright = np.add(prob_right, prob_mid).tolist()\n",
    "\n",
    "plt.figure(figsize=(16, 9))\n",
    "\n",
    "p1 = plt.bar(np.arange(4), prob_right, color='blue', edgecolor=None, width=0.35)\n",
    "p2 = plt.bar(np.arange(4), prob_mid, bottom=prob_right, color='orange', edgecolor=None, width=0.35)\n",
    "p3 = plt.bar(np.arange(4), prob_left, bottom=prob_midright, color='red', edgecolor=None, width=0.35)\n",
    "\n",
    "plt.ylabel('Probability')\n",
    "plt.xlabel('Sample Size')\n",
    "plt.title('Convergence of Sample Mean')\n",
    "plt.xticks(np.arange(4), (r'$10^2$', r'$10^3$', r'$10^4$', r'$10^5$'))\n",
    "plt.yticks(np.arange(0, 1.1, 0.1))\n",
    "plt.legend((p1[0], p2[0], p3[0]), ('Above Mean', 'Equal to Mean', 'Below Mean'), loc='upper center')\n",
    "\n",
    "plt.plot(np.arange(4), prob_right, 'k-o', markersize=4)\n",
    "plt.plot(np.arange(4), prob_midright, 'k-o', markersize=4)\n",
    "\n",
    "plt.show()"
   ]
  }
 ],
 "metadata": {
  "kernelspec": {
   "display_name": "Python 3",
   "language": "python",
   "name": "python3"
  },
  "language_info": {
   "codemirror_mode": {
    "name": "ipython",
    "version": 3
   },
   "file_extension": ".py",
   "mimetype": "text/x-python",
   "name": "python",
   "nbconvert_exporter": "python",
   "pygments_lexer": "ipython3",
   "version": "3.7.0"
  }
 },
 "nbformat": 4,
 "nbformat_minor": 2
}
